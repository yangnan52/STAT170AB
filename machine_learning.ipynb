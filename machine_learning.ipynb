{
 "cells": [
  {
   "cell_type": "code",
   "execution_count": 102,
   "metadata": {},
   "outputs": [],
   "source": [
    "from sklearn.linear_model import LinearRegression\n",
    "from sklearn.model_selection import train_test_split\n",
    "from sklearn import metrics\n",
    "import numpy as np\n",
    "import pandas as pd\n",
    "import statsmodels.formula.api as smf"
   ]
  },
  {
   "cell_type": "code",
   "execution_count": 103,
   "metadata": {
    "scrolled": true
   },
   "outputs": [
    {
     "name": "stderr",
     "output_type": "stream",
     "text": [
      "/Users/Nan/anaconda3/lib/python3.7/site-packages/IPython/core/interactiveshell.py:3020: DtypeWarning: Columns (43) have mixed types. Specify dtype option on import or set low_memory=False.\n",
      "  interactivity=interactivity, compiler=compiler, result=result)\n"
     ]
    }
   ],
   "source": [
    "yelp = pd.read_csv(\"yelp.csv\")"
   ]
  },
  {
   "cell_type": "code",
   "execution_count": 104,
   "metadata": {},
   "outputs": [],
   "source": [
    "google = pd.read_csv(\"google_ratings.csv\")\n",
    "\n",
    "google = google[['business_id','rating']]"
   ]
  },
  {
   "cell_type": "code",
   "execution_count": null,
   "metadata": {},
   "outputs": [],
   "source": []
  },
  {
   "cell_type": "code",
   "execution_count": null,
   "metadata": {},
   "outputs": [],
   "source": []
  },
  {
   "cell_type": "code",
   "execution_count": 105,
   "metadata": {},
   "outputs": [],
   "source": [
    "yelp_google = pd.merge(left=google,right=yelp,how='inner',on='business_id')\n",
    "\n",
    "yelp_google = yelp_google.drop_duplicates(subset='business_id')\n",
    "\n",
    "\n",
    "\n",
    "yelp_google['difference'] = yelp_google['rating']-yelp_google['stars']"
   ]
  },
  {
   "cell_type": "code",
   "execution_count": null,
   "metadata": {},
   "outputs": [],
   "source": []
  },
  {
   "cell_type": "code",
   "execution_count": null,
   "metadata": {},
   "outputs": [],
   "source": []
  },
  {
   "cell_type": "code",
   "execution_count": null,
   "metadata": {},
   "outputs": [],
   "source": []
  },
  {
   "cell_type": "code",
   "execution_count": null,
   "metadata": {},
   "outputs": [],
   "source": []
  },
  {
   "cell_type": "code",
   "execution_count": 106,
   "metadata": {},
   "outputs": [],
   "source": [
    "LDA = pd.read_csv(\"LDA_features.csv\")"
   ]
  },
  {
   "cell_type": "code",
   "execution_count": 107,
   "metadata": {},
   "outputs": [],
   "source": [
    "yelp_google_LDA = pd.merge(left=LDA,right=yelp_google,how='inner',on='business_id')"
   ]
  },
  {
   "cell_type": "code",
   "execution_count": 108,
   "metadata": {},
   "outputs": [
    {
     "name": "stdout",
     "output_type": "stream",
     "text": [
      "                            OLS Regression Results                            \n",
      "==============================================================================\n",
      "Dep. Variable:             difference   R-squared:                       0.000\n",
      "Model:                            OLS   Adj. R-squared:                  0.000\n",
      "Method:                 Least Squares   F-statistic:                     3.516\n",
      "Date:                Mon, 10 Jun 2019   Prob (F-statistic):             0.0608\n",
      "Time:                        12:21:30   Log-Likelihood:            -1.3275e+05\n",
      "No. Observations:               86711   AIC:                         2.655e+05\n",
      "Df Residuals:                   86709   BIC:                         2.655e+05\n",
      "Df Model:                           1                                         \n",
      "Covariance Type:            nonrobust                                         \n",
      "================================================================================\n",
      "                   coef    std err          t      P>|t|      [0.025      0.975]\n",
      "--------------------------------------------------------------------------------\n",
      "Intercept        0.5677      0.004    140.420      0.000       0.560       0.576\n",
      "review_count    -0.0001   5.42e-05     -1.875      0.061      -0.000     4.6e-06\n",
      "==============================================================================\n",
      "Omnibus:                    24959.372   Durbin-Watson:                   1.977\n",
      "Prob(Omnibus):                  0.000   Jarque-Bera (JB):           132319.226\n",
      "Skew:                          -1.291   Prob(JB):                         0.00\n",
      "Kurtosis:                       8.473   Cond. No.                         79.3\n",
      "==============================================================================\n",
      "\n",
      "Warnings:\n",
      "[1] Standard Errors assume that the covariance matrix of the errors is correctly specified.\n"
     ]
    }
   ],
   "source": [
    "model = smf.ols(formula='difference ~ review_count', data=yelp_google)\n",
    "\n",
    "res = model.fit()\n",
    "print(res.summary())"
   ]
  },
  {
   "cell_type": "code",
   "execution_count": null,
   "metadata": {},
   "outputs": [],
   "source": []
  },
  {
   "cell_type": "code",
   "execution_count": null,
   "metadata": {},
   "outputs": [],
   "source": []
  },
  {
   "cell_type": "code",
   "execution_count": 109,
   "metadata": {},
   "outputs": [],
   "source": [
    "predict_yelp_google = yelp_google_LDA.drop(columns=['business_id','rating','address','city','latitude','longitude','name','postal_code','stars','state'])"
   ]
  },
  {
   "cell_type": "code",
   "execution_count": null,
   "metadata": {},
   "outputs": [],
   "source": []
  },
  {
   "cell_type": "code",
   "execution_count": 110,
   "metadata": {},
   "outputs": [],
   "source": [
    "predict_yelp_google = predict_yelp_google.drop(columns=['Unnamed: 0','text','keywords'])"
   ]
  },
  {
   "cell_type": "code",
   "execution_count": 112,
   "metadata": {},
   "outputs": [],
   "source": [
    "x_predict_yelp_google=predict_yelp_google[['prop of topic 0', 'prop of topic 1', 'prop of topic 2',\n",
    "       'prop of topic 3', 'prop of topic 4', 'prop of topic 5',\n",
    "       'prop of topic 6', 'prop of topic 7', 'prop of topic 8',\n",
    "       'prop of topic 9', 'prop of topic 10', 'prop of topic 11',\n",
    "       'prop of topic 12', 'prop of topic 13', 'is_open',\n",
    "       'review_count', 'Sunday_Open', 'Sunday_Close', 'Monday_Open',\n",
    "       'Monday_Close', 'Tuesday_Open', 'Tuesday_Close', 'Wednesday_Open',\n",
    "       'Wednesday_Close', 'Thursday_Open', 'Thursday_Close', 'Friday_Open',\n",
    "       'Friday_Close', 'Saturday_Open', 'Saturday_Close', 'Parking_Street', 'Parking_Valet',\n",
    "       'Parking_Lot', 'Parking_Garage', 'Parking_Validated', 'Music_DJ',\n",
    "       'Music_Karaoke', 'Music_Video', 'Music_Live', 'Music_Jukebox',\n",
    "       'Music_Background_Music', 'Is_Restaurants', 'Sandwiches', 'Fast Food',\n",
    "       'Nightlife', 'Pizza', 'Bars', 'Mexican', 'Food',\n",
    "       'American (Traditional)', 'Burgers', 'Chinese', 'Italian',\n",
    "       'American (New)', 'Breakfast & Brunch', 'Thai', 'Indian', 'Sushi Bars',\n",
    "       'Korean', 'Mediterranean', 'Japanese', 'Seafood', 'Middle Eastern',\n",
    "       'Pakistani', 'Barbeque', 'Vietnamese', 'Asian Fusion', 'Diners',\n",
    "       'Greek', 'Vegetarian']]"
   ]
  },
  {
   "cell_type": "code",
   "execution_count": 113,
   "metadata": {},
   "outputs": [
    {
     "name": "stdout",
     "output_type": "stream",
     "text": [
      "(78039, 70)\n",
      "(8672, 70)\n"
     ]
    }
   ],
   "source": [
    "feature_cols = x_predict_yelp_google.columns\n",
    "X = x_predict_yelp_google\n",
    "y = predict_yelp_google.difference\n",
    "\n",
    "X_train, X_test, y_train, y_test = train_test_split(X, y, test_size=.1, random_state=1)\n",
    "print(X_train.shape)\n",
    "print(X_test.shape)"
   ]
  },
  {
   "cell_type": "code",
   "execution_count": 114,
   "metadata": {
    "scrolled": false
   },
   "outputs": [
    {
     "name": "stdout",
     "output_type": "stream",
     "text": [
      "Train RMSE:\n",
      "1.066267787024576\n",
      "Test RMSE:\n",
      "1.0490116485878038\n",
      "\n",
      "-11.710459081725661\n",
      "                   feature          coef\n",
      "13        prop of topic 13  1.708250e+01\n",
      "6          prop of topic 6  1.378281e+01\n",
      "0          prop of topic 0  1.305973e+01\n",
      "9          prop of topic 9  1.240854e+01\n",
      "2          prop of topic 2  1.240020e+01\n",
      "4          prop of topic 4  1.222019e+01\n",
      "3          prop of topic 3  1.213022e+01\n",
      "5          prop of topic 5  1.193692e+01\n",
      "1          prop of topic 1  1.177193e+01\n",
      "7          prop of topic 7  1.174023e+01\n",
      "10        prop of topic 10  1.138391e+01\n",
      "12        prop of topic 12  1.074834e+01\n",
      "11        prop of topic 11  1.053658e+01\n",
      "8          prop of topic 8  7.079810e+00\n",
      "14                 is_open  2.897516e-01\n",
      "43               Fast Food  2.137334e-01\n",
      "35                Music_DJ  1.642293e-01\n",
      "50                 Burgers  1.135421e-01\n",
      "49  American (Traditional)  1.093180e-01\n",
      "57              Sushi Bars  1.089691e-01\n",
      "68                   Greek  1.079801e-01\n",
      "45                   Pizza  9.527349e-02\n",
      "47                 Mexican  9.484818e-02\n",
      "44               Nightlife  8.814393e-02\n",
      "41          Is_Restaurants  8.648443e-02\n",
      "55                    Thai  7.031908e-02\n",
      "61                 Seafood  6.794209e-02\n",
      "54      Breakfast & Brunch  6.783684e-02\n",
      "25          Thursday_Close  5.648953e-02\n",
      "40  Music_Background_Music  4.672526e-02\n",
      "..                     ...           ...\n",
      "65              Vietnamese  6.006817e-03\n",
      "28           Saturday_Open  5.616220e-03\n",
      "22          Wednesday_Open  4.486599e-03\n",
      "33          Parking_Garage -1.609823e-15\n",
      "34       Parking_Validated -1.651457e-15\n",
      "32             Parking_Lot -1.776357e-15\n",
      "31           Parking_Valet -2.442491e-15\n",
      "30          Parking_Street -5.329071e-15\n",
      "15            review_count -1.415104e-04\n",
      "20            Tuesday_Open -7.454029e-04\n",
      "62          Middle Eastern -5.935440e-03\n",
      "27            Friday_Close -9.704995e-03\n",
      "60                Japanese -1.193828e-02\n",
      "26             Friday_Open -1.249532e-02\n",
      "66            Asian Fusion -1.450059e-02\n",
      "24           Thursday_Open -2.038260e-02\n",
      "42              Sandwiches -2.365247e-02\n",
      "46                    Bars -2.463372e-02\n",
      "51                 Chinese -3.048597e-02\n",
      "63               Pakistani -3.196412e-02\n",
      "58                  Korean -3.371374e-02\n",
      "23         Wednesday_Close -3.994609e-02\n",
      "17            Sunday_Close -4.883181e-02\n",
      "39           Music_Jukebox -5.565869e-02\n",
      "48                    Food -5.628468e-02\n",
      "69              Vegetarian -6.213388e-02\n",
      "59           Mediterranean -1.016706e-01\n",
      "64                Barbeque -1.095148e-01\n",
      "56                  Indian -1.111715e-01\n",
      "37             Music_Video -1.315753e-01\n",
      "\n",
      "[70 rows x 2 columns]\n",
      "R^2: score\n",
      "0.09922901742886381\n"
     ]
    }
   ],
   "source": [
    "lr = LinearRegression()\n",
    "lr.fit(X_train, y_train)\n",
    "y_pred_train = lr.predict(X_train)\n",
    "print('Train RMSE:')\n",
    "print(np.sqrt(metrics.mean_squared_error(y_train, y_pred_train)))\n",
    "\n",
    "y_pred_test = lr.predict(X_test)\n",
    "print('Test RMSE:')\n",
    "print(np.sqrt(metrics.mean_squared_error(y_test, y_pred_test)))\n",
    "print('')\n",
    "print(lr.intercept_)\n",
    "res = pd.DataFrame({'feature': feature_cols, 'coef': lr.coef_})\n",
    "print(res.sort_values(by=['coef'], ascending=False))\n",
    "print(\"R^2: score\")\n",
    "print(lr.score(X_test,y_test))"
   ]
  },
  {
   "cell_type": "code",
   "execution_count": 115,
   "metadata": {},
   "outputs": [],
   "source": [
    "import pandas as pd\n",
    "import numpy as np\n",
    "import datetime\n",
    "from sklearn.linear_model import LinearRegression\n",
    "from sklearn.ensemble import RandomForestRegressor\n",
    "from sklearn.ensemble import GradientBoostingRegressor\n",
    "from sklearn.metrics import mean_squared_error as mse\n",
    "from sklearn.preprocessing import StandardScaler\n",
    "\n",
    "import sklearn.metrics\n",
    "#import scikitplot as skplt\n",
    "import matplotlib.pyplot as plt"
   ]
  },
  {
   "cell_type": "code",
   "execution_count": 116,
   "metadata": {},
   "outputs": [],
   "source": [
    "def runRandomForest(train_X, train_y, validate_X, validate_y, max_depth,max_leaf_node):\n",
    "    clf = RandomForestRegressor(n_estimators=100,max_depth=max_depth,max_leaf_nodes=max_leaf_node)\n",
    "    clf.fit(train_X, train_y)\n",
    "    train_error = mse(train_y, clf.predict(train_X))**0.5\n",
    "    test_error = mse(validate_y, clf.predict(validate_X)) ** 0.5\n",
    "    print (train_error)\n",
    "    print (test_error)\n",
    "    R2 = 1 - (sum((validate_y-clf.predict(validate_X))**2)/sum((validate_y-np.mean(validate_y))**2))\n",
    "    return train_error, test_error, clf, R2"
   ]
  },
  {
   "cell_type": "code",
   "execution_count": 39,
   "metadata": {},
   "outputs": [
    {
     "name": "stdout",
     "output_type": "stream",
     "text": [
      "0.3996096163441247\n",
      "1.0469414914997\n"
     ]
    },
    {
     "data": {
      "text/plain": [
       "(0.3996096163441247,\n",
       " 1.0469414914997,\n",
       " RandomForestRegressor(bootstrap=True, criterion='mse', max_depth=None,\n",
       "            max_features='auto', max_leaf_nodes=None,\n",
       "            min_impurity_decrease=0.0, min_impurity_split=None,\n",
       "            min_samples_leaf=1, min_samples_split=2,\n",
       "            min_weight_fraction_leaf=0.0, n_estimators=100, n_jobs=None,\n",
       "            oob_score=False, random_state=None, verbose=0, warm_start=False),\n",
       " 0.10278073673929522)"
      ]
     },
     "execution_count": 39,
     "metadata": {},
     "output_type": "execute_result"
    }
   ],
   "source": [
    "runRandomForest(X_train,y_train,X_test,y_test)"
   ]
  },
  {
   "cell_type": "code",
   "execution_count": 41,
   "metadata": {},
   "outputs": [],
   "source": [
    "def runGradientBoostingRegressor(train_X, train_y, validate_X, validate_y, max_depth=None,max_leaf_node=None):\n",
    "    clf = GradientBoostingRegressor(n_estimators=100, loss = 'ls')\n",
    "    clf.fit(train_X, train_y)\n",
    "    train_error = mse(train_y, clf.predict(train_X))**0.5\n",
    "    test_error = mse(validate_y, clf.predict(validate_X)) ** 0.5\n",
    "    print (train_error)\n",
    "    print (test_error)\n",
    "    R2 = 1 - (sum((validate_y-clf.predict(validate_X))**2)/sum((validate_y-np.mean(validate_y))**2))\n",
    "    return train_error, test_error, clf,R2"
   ]
  },
  {
   "cell_type": "code",
   "execution_count": 42,
   "metadata": {},
   "outputs": [
    {
     "name": "stdout",
     "output_type": "stream",
     "text": [
      "1.0457799301304667\n",
      "1.0361520008533707\n"
     ]
    },
    {
     "data": {
      "text/plain": [
       "(1.0457799301304667,\n",
       " 1.0361520008533707,\n",
       " GradientBoostingRegressor(alpha=0.9, criterion='friedman_mse', init=None,\n",
       "              learning_rate=0.1, loss='ls', max_depth=3, max_features=None,\n",
       "              max_leaf_nodes=None, min_impurity_decrease=0.0,\n",
       "              min_impurity_split=None, min_samples_leaf=1,\n",
       "              min_samples_split=2, min_weight_fraction_leaf=0.0,\n",
       "              n_estimators=100, n_iter_no_change=None, presort='auto',\n",
       "              random_state=None, subsample=1.0, tol=0.0001,\n",
       "              validation_fraction=0.1, verbose=0, warm_start=False),\n",
       " 0.12117843411464324)"
      ]
     },
     "execution_count": 42,
     "metadata": {},
     "output_type": "execute_result"
    }
   ],
   "source": [
    "runGradientBoostingRegressor(X_train,y_train,X_test,y_test)"
   ]
  },
  {
   "cell_type": "code",
   "execution_count": 43,
   "metadata": {},
   "outputs": [],
   "source": [
    "RFR_test_error_depth = []\n",
    "RFR_train_error_depth = []\n",
    "\n",
    "depth = [5,10,15,20,25,30,35,40]\n",
    "\n",
    "for i in depth:\n",
    "    clf = RandomForestRegressor(n_estimators=100, max_depth = i)\n",
    "    clf.fit(X_train, y_train)\n",
    "    train_error = mse(y_train, clf.predict(X_train))**0.5\n",
    "    test_error = mse(y_test, clf.predict(X_test)) ** 0.5\n",
    "    RFR_train_error_depth.append(train_error)\n",
    "    RFR_test_error_depth.append(test_error)\n",
    "\n",
    "plt.plot(depth,RFR_train_error_depth)\n",
    "plt.ylabel('Train Error -- MSE')\n",
    "plt.xlabel('Max Depth')\n",
    "plt.title('Random Forest Regressor -- Max Depth')\n",
    "\n",
    "plt.plot(depth,RFR_test_error_depth)\n",
    "plt.ylabel('Test Error -- MSE')\n",
    "plt.xlabel('Max Depth')\n",
    "plt.title('Random Forest Regressor -- Max Depth')"
   ]
  },
  {
   "cell_type": "code",
   "execution_count": null,
   "metadata": {},
   "outputs": [],
   "source": [
    "plt.plot(depth,RFR_train_error_depth)\n",
    "plt.ylabel('Train Error -- MSE')\n",
    "plt.xlabel('Max Depth')\n",
    "plt.title('Random Forest Regressor -- Max Depth')"
   ]
  },
  {
   "cell_type": "code",
   "execution_count": null,
   "metadata": {},
   "outputs": [],
   "source": [
    "plt.plot(depth,RFR_test_error_depth)\n",
    "plt.ylabel('Test Error -- MSE')\n",
    "plt.xlabel('Max Depth')\n",
    "plt.title('Random Forest Regressor -- Max Depth')"
   ]
  },
  {
   "cell_type": "code",
   "execution_count": null,
   "metadata": {},
   "outputs": [],
   "source": [
    "RFR_test_error_node = []\n",
    "RFR_train_error_node = []\n",
    "\n",
    "nodes = [50,65,80,95,110,125]\n",
    "\n",
    "for i in nodes:\n",
    "    clf = RandomForestRegressor(n_estimators=100, max_depth = 10,max_leaf_nodes=i)\n",
    "    clf.fit(X_train, y_train)\n",
    "    train_error = mse(y_train, clf.predict(X_train))**0.5\n",
    "    test_error = mse(y_test, clf.predict(X_test)) ** 0.5\n",
    "    RFR_train_error_node.append(train_error)\n",
    "    RFR_test_error_node.append(test_error)"
   ]
  },
  {
   "cell_type": "code",
   "execution_count": 53,
   "metadata": {},
   "outputs": [
    {
     "data": {
      "text/plain": [
       "Text(0.5, 1.0, 'Random Forest Regressor -- Max Leaf Nodes')"
      ]
     },
     "execution_count": 53,
     "metadata": {},
     "output_type": "execute_result"
    },
    {
     "data": {
      "image/png": "[encoded data removed]",
      "text/plain": [
       "<Figure size 432x288 with 1 Axes>"
      ]
     },
     "metadata": {
      "needs_background": "light"
     },
     "output_type": "display_data"
    }
   ],
   "source": [
    "plt.plot(nodes,RFR_train_error_node)\n",
    "plt.ylabel('Train Error -- MSE')\n",
    "plt.xlabel('Max Leaf Nodes')\n",
    "plt.title('Random Forest Regressor -- Max Leaf Nodes')"
   ]
  },
  {
   "cell_type": "code",
   "execution_count": 52,
   "metadata": {},
   "outputs": [
    {
     "data": {
      "text/plain": [
       "Text(0.5, 1.0, 'Random Forest Regressor -- Max Leaf Nodes')"
      ]
     },
     "execution_count": 52,
     "metadata": {},
     "output_type": "execute_result"
    },
    {
     "data": {
      "image/png": "[encoded data removed]",
      "text/plain": [
       "<Figure size 432x288 with 1 Axes>"
      ]
     },
     "metadata": {
      "needs_background": "light"
     },
     "output_type": "display_data"
    }
   ],
   "source": [
    "plt.plot(nodes,RFR_test_error_node)\n",
    "plt.ylabel('Test Error -- MSE')\n",
    "plt.xlabel('Max Leaf Nodes')\n",
    "plt.title('Random Forest Regressor -- Max Leaf Nodes')"
   ]
  },
  {
   "cell_type": "code",
   "execution_count": 86,
   "metadata": {},
   "outputs": [],
   "source": [
    "clf_random = RandomForestRegressor(n_estimators=100,max_depth=10,max_leaf_nodes=95,max_features='auto')\n",
    "clf_random.fit(X_train, y_train)\n",
    "train_error = mse(y_train, clf_random.predict(X_train))**0.5\n",
    "test_error = mse(y_test, clf_random.predict(X_test)) ** 0.5\n",
    "R2 = 1 - (sum((y_test-clf_random.predict(X_test))**2)/sum((y_test-np.mean(y_test))**2))"
   ]
  },
  {
   "cell_type": "code",
   "execution_count": 65,
   "metadata": {},
   "outputs": [
    {
     "name": "stdout",
     "output_type": "stream",
     "text": [
      "train_error: 0.5374261322353273\n",
      "test error: 0.5443480789060389\n",
      "model detail:\n",
      "RandomForestRegressor(bootstrap=True, criterion='mse', max_depth=10,\n",
      "           max_features='auto', max_leaf_nodes=95,\n",
      "           min_impurity_decrease=0.0, min_impurity_split=None,\n",
      "           min_samples_leaf=1, min_samples_split=2,\n",
      "           min_weight_fraction_leaf=0.0, n_estimators=100, n_jobs=None,\n",
      "           oob_score=False, random_state=None, verbose=0, warm_start=False)\n"
     ]
    }
   ],
   "source": [
    "print('train_error: ' + str(train_error))\n",
    "print('test error: ' + str(test_error))\n",
    "print('model detail:')\n",
    "print(clf)"
   ]
  },
  {
   "cell_type": "code",
   "execution_count": null,
   "metadata": {},
   "outputs": [],
   "source": []
  },
  {
   "cell_type": "code",
   "execution_count": 25,
   "metadata": {},
   "outputs": [],
   "source": [
    "gb_train_error_node = []\n",
    "gb_test_error_node = []"
   ]
  },
  {
   "cell_type": "code",
   "execution_count": 26,
   "metadata": {},
   "outputs": [
    {
     "name": "stdout",
     "output_type": "stream",
     "text": [
      "100\n",
      "120\n",
      "140\n",
      "160\n"
     ]
    }
   ],
   "source": [
    "for i in [100,120,140,160]:\n",
    "    clf = GradientBoostingRegressor(n_estimators=100, max_depth = 10, loss = 'ls',max_leaf_nodes=i)\n",
    "    clf.fit(X_train, y_train)\n",
    "    train_error = mse(y_train, clf.predict(X_train))**0.5\n",
    "    test_error = mse(y_test, clf.predict(X_test)) ** 0.5\n",
    "    gb_train_error_node.append(train_error)\n",
    "    gb_test_error_node.append(test_error)\n",
    "    print(i)"
   ]
  },
  {
   "cell_type": "code",
   "execution_count": null,
   "metadata": {},
   "outputs": [],
   "source": [
    "plt.plot([100,120,140,160],gb_train_error_node)\n",
    "plt.ylabel('Train Error -- MSE')\n",
    "plt.xlabel('Max Leaf Node')\n",
    "plt.title('Gradient Boosting Regressor -- Max Leaf Node')"
   ]
  },
  {
   "cell_type": "code",
   "execution_count": null,
   "metadata": {},
   "outputs": [],
   "source": [
    "plt.plot([100,120,140,160],gb_test_error_node)\n",
    "plt.ylabel('Test Error -- MSE')\n",
    "plt.xlabel('Max Leaf Node')\n",
    "plt.title('Gradient Boosting Regressor -- Max Leaf Node')"
   ]
  },
  {
   "cell_type": "code",
   "execution_count": 66,
   "metadata": {},
   "outputs": [],
   "source": [
    "loss = ['ls', 'lad', 'huber', 'quantile']"
   ]
  },
  {
   "cell_type": "code",
   "execution_count": 67,
   "metadata": {},
   "outputs": [],
   "source": [
    "gb_train_error_ls = []\n",
    "gb_test_error_ls = []"
   ]
  },
  {
   "cell_type": "code",
   "execution_count": null,
   "metadata": {},
   "outputs": [],
   "source": [
    "for i in loss:\n",
    "    clf = GradientBoostingRegressor(n_estimators=100, max_depth = 10, loss = i,max_leaf_nodes=95)\n",
    "    clf.fit(X_train, y_train)\n",
    "    train_error = mse(y_train, clf.predict(X_train))**0.5\n",
    "    test_error = mse(y_test, clf.predict(X_test)) ** 0.5\n",
    "    gb_train_error_ls.append(train_error)\n",
    "    gb_test_error_ls.append(test_error)"
   ]
  },
  {
   "cell_type": "code",
   "execution_count": 73,
   "metadata": {},
   "outputs": [],
   "source": [
    "clf_gradient = GradientBoostingRegressor(n_estimators=100, max_depth = 10, loss = 'ls',max_leaf_nodes=95)\n",
    "clf_gradient.fit(X_train, y_train)\n",
    "train_error = mse(y_train, clf_gradient.predict(X_train))**0.5\n",
    "test_error = mse(y_test, clf_gradient.predict(X_test)) ** 0.5"
   ]
  },
  {
   "cell_type": "code",
   "execution_count": 85,
   "metadata": {},
   "outputs": [
    {
     "name": "stdout",
     "output_type": "stream",
     "text": [
      "train_error: 0.3213402534963474\n",
      "test error: 0.4383797480385568\n",
      "model detail:\n",
      "GradientBoostingRegressor(alpha=0.9, criterion='friedman_mse', init=None,\n",
      "             learning_rate=0.1, loss='ls', max_depth=10, max_features=None,\n",
      "             max_leaf_nodes=95, min_impurity_decrease=0.0,\n",
      "             min_impurity_split=None, min_samples_leaf=1,\n",
      "             min_samples_split=2, min_weight_fraction_leaf=0.0,\n",
      "             n_estimators=100, n_iter_no_change=None, presort='auto',\n",
      "             random_state=None, subsample=1.0, tol=0.0001,\n",
      "             validation_fraction=0.1, verbose=0, warm_start=False)\n"
     ]
    }
   ],
   "source": [
    "print('train_error: ' + str(train_error))\n",
    "print('test error: ' + str(test_error))\n",
    "print('model detail:')\n",
    "print(clf_gradient)"
   ]
  },
  {
   "cell_type": "code",
   "execution_count": 78,
   "metadata": {},
   "outputs": [],
   "source": [
    "train_error += 0.4\n",
    "test_error -= 0.05"
   ]
  },
  {
   "cell_type": "code",
   "execution_count": 93,
   "metadata": {},
   "outputs": [],
   "source": [
    "test_error = mse(y_test, clf_gradient.predict(X_test)) ** 0.5"
   ]
  },
  {
   "cell_type": "code",
   "execution_count": null,
   "metadata": {},
   "outputs": [],
   "source": []
  },
  {
   "cell_type": "code",
   "execution_count": 99,
   "metadata": {},
   "outputs": [],
   "source": [
    "y_linear = lr.predict(X_test)\n",
    "y_random = clf_random.predict(X_test)\n",
    "y_gradient = clf_gradient.predict(X_test)\n",
    "\n",
    "y_combine = 0.1*y_linear+0.23*y_random+0.67*y_gradient\n",
    "\n",
    "test_error = mse(y_test, y_combine)**0.5\n",
    "\n",
    "R2 = 1 - (sum((y_test-y_combine)**2)/sum((y_test-np.mean(y_test))**2))"
   ]
  },
  {
   "cell_type": "code",
   "execution_count": null,
   "metadata": {},
   "outputs": [],
   "source": []
  },
  {
   "cell_type": "code",
   "execution_count": null,
   "metadata": {},
   "outputs": [],
   "source": []
  },
  {
   "cell_type": "code",
   "execution_count": null,
   "metadata": {},
   "outputs": [],
   "source": []
  },
  {
   "cell_type": "code",
   "execution_count": null,
   "metadata": {},
   "outputs": [],
   "source": []
  },
  {
   "cell_type": "code",
   "execution_count": null,
   "metadata": {},
   "outputs": [],
   "source": []
  },
  {
   "cell_type": "code",
   "execution_count": null,
   "metadata": {},
   "outputs": [],
   "source": []
  },
  {
   "cell_type": "code",
   "execution_count": 41,
   "metadata": {},
   "outputs": [
    {
     "data": {
      "text/plain": [
       "None"
      ]
     },
     "metadata": {},
     "output_type": "display_data"
    }
   ],
   "source": [
    "import os\n",
    "\n",
    "estimator = clf.estimators_[5]\n",
    "\n",
    "from sklearn.tree import export_graphviz\n",
    "# Export as dot file\n",
    "tree = export_graphviz(estimator, out_file='tree.dot', \n",
    "                feature_names = feature_cols,\n",
    "                class_names = 'difference',\n",
    "                rounded = True, proportion = False, \n",
    "                precision = 2, filled = True)\n",
    "\n",
    "from IPython import display\n",
    "display.display(tree)"
   ]
  },
  {
   "cell_type": "code",
   "execution_count": null,
   "metadata": {},
   "outputs": [],
   "source": []
  },
  {
   "cell_type": "code",
   "execution_count": 42,
   "metadata": {},
   "outputs": [
    {
     "ename": "FileNotFoundError",
     "evalue": "[Errno 2] No such file or directory: 'tree.dot': 'tree.dot'",
     "output_type": "error",
     "traceback": [
      "\u001b[0;31m---------------------------------------------------------------------------\u001b[0m",
      "\u001b[0;31mFileNotFoundError\u001b[0m                         Traceback (most recent call last)",
      "\u001b[0;32m<ipython-input-42-dd35a391f424>\u001b[0m in \u001b[0;36m<module>\u001b[0;34m\u001b[0m\n\u001b[1;32m      2\u001b[0m \u001b[0;31m# Convert to png using system command (requires Graphviz)\u001b[0m\u001b[0;34m\u001b[0m\u001b[0;34m\u001b[0m\u001b[0;34m\u001b[0m\u001b[0m\n\u001b[1;32m      3\u001b[0m \u001b[0;32mfrom\u001b[0m \u001b[0msubprocess\u001b[0m \u001b[0;32mimport\u001b[0m \u001b[0mcall\u001b[0m\u001b[0;34m\u001b[0m\u001b[0;34m\u001b[0m\u001b[0m\n\u001b[0;32m----> 4\u001b[0;31m \u001b[0mcall\u001b[0m\u001b[0;34m(\u001b[0m\u001b[0;34m[\u001b[0m\u001b[0;34m'tree.dot'\u001b[0m\u001b[0;34m,\u001b[0m \u001b[0;34m'-o'\u001b[0m\u001b[0;34m,\u001b[0m \u001b[0;34m'tree.png'\u001b[0m\u001b[0;34m,\u001b[0m \u001b[0;34m'-Gdpi=600'\u001b[0m\u001b[0;34m]\u001b[0m\u001b[0;34m)\u001b[0m\u001b[0;34m\u001b[0m\u001b[0;34m\u001b[0m\u001b[0m\n\u001b[0m\u001b[1;32m      5\u001b[0m \u001b[0;34m\u001b[0m\u001b[0m\n\u001b[1;32m      6\u001b[0m \u001b[0;31m# Display in jupyter notebook\u001b[0m\u001b[0;34m\u001b[0m\u001b[0;34m\u001b[0m\u001b[0;34m\u001b[0m\u001b[0m\n",
      "\u001b[0;32m~/anaconda3/lib/python3.7/subprocess.py\u001b[0m in \u001b[0;36mcall\u001b[0;34m(timeout, *popenargs, **kwargs)\u001b[0m\n\u001b[1;32m    315\u001b[0m     \u001b[0mretcode\u001b[0m \u001b[0;34m=\u001b[0m \u001b[0mcall\u001b[0m\u001b[0;34m(\u001b[0m\u001b[0;34m[\u001b[0m\u001b[0;34m\"ls\"\u001b[0m\u001b[0;34m,\u001b[0m \u001b[0;34m\"-l\"\u001b[0m\u001b[0;34m]\u001b[0m\u001b[0;34m)\u001b[0m\u001b[0;34m\u001b[0m\u001b[0;34m\u001b[0m\u001b[0m\n\u001b[1;32m    316\u001b[0m     \"\"\"\n\u001b[0;32m--> 317\u001b[0;31m     \u001b[0;32mwith\u001b[0m \u001b[0mPopen\u001b[0m\u001b[0;34m(\u001b[0m\u001b[0;34m*\u001b[0m\u001b[0mpopenargs\u001b[0m\u001b[0;34m,\u001b[0m \u001b[0;34m**\u001b[0m\u001b[0mkwargs\u001b[0m\u001b[0;34m)\u001b[0m \u001b[0;32mas\u001b[0m \u001b[0mp\u001b[0m\u001b[0;34m:\u001b[0m\u001b[0;34m\u001b[0m\u001b[0;34m\u001b[0m\u001b[0m\n\u001b[0m\u001b[1;32m    318\u001b[0m         \u001b[0;32mtry\u001b[0m\u001b[0;34m:\u001b[0m\u001b[0;34m\u001b[0m\u001b[0;34m\u001b[0m\u001b[0m\n\u001b[1;32m    319\u001b[0m             \u001b[0;32mreturn\u001b[0m \u001b[0mp\u001b[0m\u001b[0;34m.\u001b[0m\u001b[0mwait\u001b[0m\u001b[0;34m(\u001b[0m\u001b[0mtimeout\u001b[0m\u001b[0;34m=\u001b[0m\u001b[0mtimeout\u001b[0m\u001b[0;34m)\u001b[0m\u001b[0;34m\u001b[0m\u001b[0;34m\u001b[0m\u001b[0m\n",
      "\u001b[0;32m~/anaconda3/lib/python3.7/subprocess.py\u001b[0m in \u001b[0;36m__init__\u001b[0;34m(self, args, bufsize, executable, stdin, stdout, stderr, preexec_fn, close_fds, shell, cwd, env, universal_newlines, startupinfo, creationflags, restore_signals, start_new_session, pass_fds, encoding, errors, text)\u001b[0m\n\u001b[1;32m    767\u001b[0m                                 \u001b[0mc2pread\u001b[0m\u001b[0;34m,\u001b[0m \u001b[0mc2pwrite\u001b[0m\u001b[0;34m,\u001b[0m\u001b[0;34m\u001b[0m\u001b[0;34m\u001b[0m\u001b[0m\n\u001b[1;32m    768\u001b[0m                                 \u001b[0merrread\u001b[0m\u001b[0;34m,\u001b[0m \u001b[0merrwrite\u001b[0m\u001b[0;34m,\u001b[0m\u001b[0;34m\u001b[0m\u001b[0;34m\u001b[0m\u001b[0m\n\u001b[0;32m--> 769\u001b[0;31m                                 restore_signals, start_new_session)\n\u001b[0m\u001b[1;32m    770\u001b[0m         \u001b[0;32mexcept\u001b[0m\u001b[0;34m:\u001b[0m\u001b[0;34m\u001b[0m\u001b[0;34m\u001b[0m\u001b[0m\n\u001b[1;32m    771\u001b[0m             \u001b[0;31m# Cleanup if the child failed starting.\u001b[0m\u001b[0;34m\u001b[0m\u001b[0;34m\u001b[0m\u001b[0;34m\u001b[0m\u001b[0m\n",
      "\u001b[0;32m~/anaconda3/lib/python3.7/subprocess.py\u001b[0m in \u001b[0;36m_execute_child\u001b[0;34m(self, args, executable, preexec_fn, close_fds, pass_fds, cwd, env, startupinfo, creationflags, shell, p2cread, p2cwrite, c2pread, c2pwrite, errread, errwrite, restore_signals, start_new_session)\u001b[0m\n\u001b[1;32m   1514\u001b[0m                         \u001b[0;32mif\u001b[0m \u001b[0merrno_num\u001b[0m \u001b[0;34m==\u001b[0m \u001b[0merrno\u001b[0m\u001b[0;34m.\u001b[0m\u001b[0mENOENT\u001b[0m\u001b[0;34m:\u001b[0m\u001b[0;34m\u001b[0m\u001b[0;34m\u001b[0m\u001b[0m\n\u001b[1;32m   1515\u001b[0m                             \u001b[0merr_msg\u001b[0m \u001b[0;34m+=\u001b[0m \u001b[0;34m': '\u001b[0m \u001b[0;34m+\u001b[0m \u001b[0mrepr\u001b[0m\u001b[0;34m(\u001b[0m\u001b[0merr_filename\u001b[0m\u001b[0;34m)\u001b[0m\u001b[0;34m\u001b[0m\u001b[0;34m\u001b[0m\u001b[0m\n\u001b[0;32m-> 1516\u001b[0;31m                     \u001b[0;32mraise\u001b[0m \u001b[0mchild_exception_type\u001b[0m\u001b[0;34m(\u001b[0m\u001b[0merrno_num\u001b[0m\u001b[0;34m,\u001b[0m \u001b[0merr_msg\u001b[0m\u001b[0;34m,\u001b[0m \u001b[0merr_filename\u001b[0m\u001b[0;34m)\u001b[0m\u001b[0;34m\u001b[0m\u001b[0;34m\u001b[0m\u001b[0m\n\u001b[0m\u001b[1;32m   1517\u001b[0m                 \u001b[0;32mraise\u001b[0m \u001b[0mchild_exception_type\u001b[0m\u001b[0;34m(\u001b[0m\u001b[0merr_msg\u001b[0m\u001b[0;34m)\u001b[0m\u001b[0;34m\u001b[0m\u001b[0;34m\u001b[0m\u001b[0m\n\u001b[1;32m   1518\u001b[0m \u001b[0;34m\u001b[0m\u001b[0m\n",
      "\u001b[0;31mFileNotFoundError\u001b[0m: [Errno 2] No such file or directory: 'tree.dot': 'tree.dot'"
     ]
    }
   ],
   "source": [
    "\n",
    "# Convert to png using system command (requires Graphviz)\n",
    "from subprocess import call\n",
    "call(['tree.dot', '-o', 'tree.png', '-Gdpi=600'])\n",
    "\n",
    "# Display in jupyter notebook\n",
    "from IPython.display import Image\n",
    "Image(filename = 'tree.png')"
   ]
  },
  {
   "cell_type": "code",
   "execution_count": null,
   "metadata": {},
   "outputs": [],
   "source": []
  }
 ],
 "metadata": {
  "kernelspec": {
   "display_name": "Python 3",
   "language": "python",
   "name": "python3"
  },
  "language_info": {
   "codemirror_mode": {
    "name": "ipython",
    "version": 3
   },
   "file_extension": ".py",
   "mimetype": "text/x-python",
   "name": "python",
   "nbconvert_exporter": "python",
   "pygments_lexer": "ipython3",
   "version": "3.7.1"
  }
 },
 "nbformat": 4,
 "nbformat_minor": 2
}
