{
 "cells": [
  {
   "cell_type": "code",
   "execution_count": 1,
   "metadata": {},
   "outputs": [],
   "source": [
    "from datetime import datetime\n",
    "\n",
    "from types import GeneratorType\n",
    "\n",
    "import responses\n",
    "\n",
    "import googlemaps\n",
    "from googlemaps.places import places_autocomplete_session_token\n",
    "\n",
    "import json\n",
    "import os\n",
    "import pandas as pd\n",
    "import ast\n",
    "\n",
    "\n",
    "business_file = 'yelp_dataset/business.json'\n",
    "review_file = '/yelp_dataset/review.json'\n",
    "user_file = '/yelp_dataset/user.json'\n",
    "tip_file = '/yelp_dataset/tip.json'\n",
    "checkin_file = '/yelp_dataset/checkin.json'"
   ]
  },
  {
   "cell_type": "code",
   "execution_count": 2,
   "metadata": {},
   "outputs": [],
   "source": [
    "# BUSINESS.JSON\n",
    "business_data = []\n",
    "with open(business_file) as f:\n",
    "    for line in f:\n",
    "        business_data.append(json.loads(line))\n",
    "business_df = pd.DataFrame.from_dict(business_data)"
   ]
  },
  {
   "cell_type": "code",
   "execution_count": null,
   "metadata": {},
   "outputs": [],
   "source": []
  },
  {
   "cell_type": "code",
   "execution_count": 4,
   "metadata": {},
   "outputs": [],
   "source": [
    "keys = 'xxxxxxxxxxxxx'\n",
    "client = googlemaps.Client(keys)\n",
    "url = 'https://maps.googleapis.com/maps/api/place/findplacefromtext/json'\n",
    "\n",
    "responses.add(responses.GET, url,body='{\"status\": \"OK\", \"candidates\": []}',status=200, content_type='application/json')\n",
    "\n",
    "def getting_google_rating(t):\n",
    "    for i in range(0,t.shape[0]):\n",
    "        st = t.at[i,'name'] + \", \" + t.at[i,'city'] + \", \" + t.at[i,'state']\n",
    "        info = client.find_place(st, 'textquery',fields=['geometry', 'id','rating','place_id','name']\n",
    "                                 ,location_bias='point:90,90')\n",
    "        if info['candidates'] != []:\n",
    "            if 'rating' in info['candidates'][0]:\n",
    "                t.at[i,'rating'] = info['candidates'][0]['rating']"
   ]
  },
  {
   "cell_type": "code",
   "execution_count": null,
   "metadata": {},
   "outputs": [],
   "source": [
    "getting_google_rating(business_df)"
   ]
  },
  {
   "cell_type": "code",
   "execution_count": null,
   "metadata": {},
   "outputs": [],
   "source": []
  }
 ],
 "metadata": {
  "kernelspec": {
   "display_name": "Python 3",
   "language": "python",
   "name": "python3"
  },
  "language_info": {
   "codemirror_mode": {
    "name": "ipython",
    "version": 3
   },
   "file_extension": ".py",
   "mimetype": "text/x-python",
   "name": "python",
   "nbconvert_exporter": "python",
   "pygments_lexer": "ipython3",
   "version": "3.7.1"
  }
 },
 "nbformat": 4,
 "nbformat_minor": 2
}
